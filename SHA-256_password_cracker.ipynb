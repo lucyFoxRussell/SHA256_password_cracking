{
 "cells": [
  {
   "cell_type": "markdown",
   "id": "b7ccdeac-c05e-40c4-8e5a-4249a72a4307",
   "metadata": {},
   "source": [
    "# SHA-256 Password Cracker\n",
    "\n",
    "I built a simple SHA-256 password \"cracker\" in Python to understand how password cracking works and the challenges behind breaking hashes."
   ]
  },
  {
   "cell_type": "markdown",
   "id": "8fd02dd1-5681-44b8-8cca-665d18f5884f",
   "metadata": {},
   "source": [
    "## Step 1: Understanding SHA-256\n",
    "\n",
    "Firstly I learnt about how the SHA-256 hashing algorithm works. I learnt that SHA-256 is a *one-way* function, meaning that it’s computationally infeasible to reverse a hash back into its original value. This is good for security, but it means I couldn’t just “decode” the hash directly. \n",
    "\n",
    "Instead, my goal was to compare hashes by re-hashing each password candidate in my wordlist and checking if it matched the target hash."
   ]
  },
  {
   "cell_type": "markdown",
   "id": "77112ec5-6cdb-49d6-9d1f-f01a54d74142",
   "metadata": {},
   "source": [
    "## Step 2: Setting Up the Environment\n",
    "\n",
    "For this project, I didn’t need to install any extra libraries because Python’s built-in `hashlib` library includes SHA-256 hashing functionality. I created a small project folder, placed my `sha256_cracker.py` script inside, and added a `wordlist.txt` file containing a list of test passwords. I used a list of commonly used passwords for this test, but in a real-world scenario, attackers might use much larger wordlists or sophisticated techniques to generate password candidates.\n"
   ]
  },
  {
   "cell_type": "markdown",
   "id": "86f5fcc5-db0d-43eb-968a-2adc5e712823",
   "metadata": {},
   "source": [
    "## Step 3: Create a sha256_hash helper fundation\n",
    "\n",
    "The helper function takes a string and returns its SHA-256 hash.  This will then be used in the main function to hash each commonly used password before comparision with the target hash."
   ]
  },
  {
   "cell_type": "code",
   "execution_count": null,
   "id": "873c7d8f-4ff4-4e2f-8c3c-2c4ba9ea379d",
   "metadata": {},
   "outputs": [],
   "source": [
    "def sha256_hash(text):\n",
    "    \"\"\"\n",
    "    Returns the SHA-256 hash of the given text (string).\n",
    "    \"\"\"\n",
    "    return hashlib.sha256(text.encode('utf-8')).hexdigest()"
   ]
  },
  {
   "cell_type": "markdown",
   "id": "a50d5f60-f12d-4331-bb12-6a394724bc19",
   "metadata": {},
   "source": [
    "## Step 4: Create core password comparision function\n",
    "\n",
    "The core logic is to compare the target hash against a list of passwords is implemented in the compare_againsts_most_popular_passwords_hashed() function. It reads the password file line by line, hashes each password, and compares the result to the target hash."
   ]
  },
  {
   "cell_type": "code",
   "execution_count": null,
   "id": "2434dcc0-a4d0-4aa5-8349-9f6eab5575d3",
   "metadata": {},
   "outputs": [],
   "source": [
    "# For testing purposes this function also breaks after 10 attempts.\n",
    "\n",
    "def compare_againsts_most_popular_passwords_hashed(target_hash, password_file): \n",
    "    with open(password_file, \"r\", encoding='utf-8') as password_list:\n",
    "        for attempt, password in enumerate(password_list):\n",
    "            if attempt == 10:\n",
    "                break\n",
    "            print(f\"[{attempt}] Attempting to crack: {target_hash}! \\n\")\n",
    "            password = password.strip(\"\\n\")\n",
    "            password_hash = sha256_hash(password)\n",
    "\n",
    "            if password_hash == target_hash:\n",
    "                return password\n",
    "    return None"
   ]
  },
  {
   "cell_type": "markdown",
   "id": "953c4a81-66b1-4570-844e-957d7bc49dca",
   "metadata": {},
   "source": [
    "# Step 5: Testing and Learning\n",
    "\n",
    "After implementing the cracking logic, I tested it by generating my own SHA-256 hash for a known password, then inserting it into the wordlist. The script successfully cracked the hash by matching it with the corresponding wordlist password. This was a good sanity check and confirmed that my approach was working.\n",
    "\n",
    "Through this process, I learned that while SHA-256 is a strong hashing algorithm, it’s not perfect in every scenario. For example, unsalted hashes are vulnerable to brute-force and dictionary attacks, especially if the attacker has access to a wordlist of commonly used passwords."
   ]
  },
  {
   "cell_type": "markdown",
   "id": "f561d193-5f4f-4cc6-afd8-66df3b00f113",
   "metadata": {},
   "source": [
    "# Reflections and lessons learned\n",
    "\n",
    "Performance Considerations\n",
    "Even in this basic scrit, I quickly ran into performance bottlenecks when trying to use larger wordlists as the script could take a while to process a huge file of potential passwords. In real-world scenarios, attackers would likely use more advanced tools, parallel processing, or even cloud services to speed up the process.\n",
    "\n",
    "Security Implications\n",
    "This exercise reinforced the importance of strong password policies, including:\n",
    "\n",
    "Using complex passwords (e.g., mixing letters, numbers, and special characters).\n",
    "\n",
    "Salting passwords before hashing. A salt is a random value added to the password before hashing, which makes it much harder for attackers to use precomputed hash tables (like rainbow tables) to crack passwords.\n",
    "\n",
    "Overall, this project gave me a hands-on understanding of how password hashes work and how attackers might use simple brute-force or dictionary attacks to crack weak passwords. It also helped me realise why good hashing practices—like salting—are crucial for secure systems."
   ]
  },
  {
   "cell_type": "markdown",
   "id": "546204c2-5f9d-4e60-ad2f-d42d904e1c5f",
   "metadata": {},
   "source": [
    "# Full Code"
   ]
  },
  {
   "cell_type": "code",
   "execution_count": null,
   "id": "13554456-9b48-4df8-a42d-d37e518423ec",
   "metadata": {},
   "outputs": [],
   "source": [
    "from pwn import *\n",
    "import sys\n",
    "import hashlib\n",
    "\n",
    "def sha256_hash(text):\n",
    "    \"\"\"\n",
    "    Returns the SHA-256 hash of the given text (string).\n",
    "    \"\"\"\n",
    "    return hashlib.sha256(text.encode('utf-8')).hexdigest()\n",
    "\n",
    "def compare_againsts_most_popular_passwords_hashed(target_hash, password_file): \n",
    "    with open(password_file, \"r\", encoding='utf-8') as password_list:\n",
    "        for attempt, password in enumerate(password_list):\n",
    "            if attempt == 10:\n",
    "                break\n",
    "            print(f\"[{attempt}] Attempting to crack: {target_hash}! \\n\")\n",
    "            password = password.strip(\"\\n\")\n",
    "            password_hash = sha256_hash(password)\n",
    "\n",
    "            if password_hash == target_hash:\n",
    "                return password\n",
    "    return None\n",
    "        \n",
    "\n",
    "if __name__ == \"__main__\":\n",
    "    # Test Example\n",
    "    target_hash = hashlib.sha256(\"test\".encode('utf-8')).hexdigest()\n",
    "    password_file = \"1K-most-used-passwords-NCSC.txt\"\n",
    "\n",
    "    result = compare_againsts_most_popular_passwords_hashed(target_hash, password_file)\n",
    "    if result is not None:\n",
    "        print(f\"[+] Password found: '{result}'\")\n",
    "    else:\n",
    "        print(\"[!] No match found in the wordlist.\")\n"
   ]
  }
 ],
 "metadata": {
  "kernelspec": {
   "display_name": "Python 3 (ipykernel)",
   "language": "python",
   "name": "python3"
  },
  "language_info": {
   "codemirror_mode": {
    "name": "ipython",
    "version": 3
   },
   "file_extension": ".py",
   "mimetype": "text/x-python",
   "name": "python",
   "nbconvert_exporter": "python",
   "pygments_lexer": "ipython3",
   "version": "3.12.1"
  }
 },
 "nbformat": 4,
 "nbformat_minor": 5
}
